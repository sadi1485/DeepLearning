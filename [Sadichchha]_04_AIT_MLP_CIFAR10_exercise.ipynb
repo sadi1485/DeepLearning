{
  "nbformat": 4,
  "nbformat_minor": 0,
  "metadata": {
    "anaconda-cloud": {},
    "kernelspec": {
      "display_name": "Python 3",
      "language": "python",
      "name": "python3"
    },
    "language_info": {
      "codemirror_mode": {
        "name": "ipython",
        "version": 3
      },
      "file_extension": ".py",
      "mimetype": "text/x-python",
      "name": "python",
      "nbconvert_exporter": "python",
      "pygments_lexer": "ipython3",
      "version": "3.6.6"
    },
    "colab": {
      "provenance": [],
      "include_colab_link": true
    },
    "accelerator": "GPU"
  },
  "cells": [
    {
      "cell_type": "markdown",
      "metadata": {
        "id": "view-in-github",
        "colab_type": "text"
      },
      "source": [
        "<a href=\"https://colab.research.google.com/github/sadi1485/DeepLearning/blob/main/%5BSadichchha%5D_04_AIT_MLP_CIFAR10_exercise.ipynb\" target=\"_parent\"><img src=\"https://colab.research.google.com/assets/colab-badge.svg\" alt=\"Open In Colab\"/></a>"
      ]
    },
    {
      "cell_type": "markdown",
      "metadata": {
        "id": "cW-EyI5Lxpqi"
      },
      "source": [
        "# Copyright\n",
        "\n",
        "<PRE>\n",
        "Copyright (c) Bálint Gyires-Tóth - All Rights Reserved\n",
        "You may use and modify this code for research and development purpuses.\n",
        "Using this code for educational purposes (self-paced or instructor led) without the permission of the author is prohibited.\n",
        "</PRE>"
      ]
    },
    {
      "cell_type": "markdown",
      "source": [
        "# Example of data exploration, modeling, regulartion and prediction\n",
        "Our exercise today involves loading a standard dataset using TensorFlow Keras API, exploring the data, building a simple neural network, and evaluating the effects of basic methods (activation functions, regularization, weight initialization, etc.). We then perform predictions on the test set and inspect the results."
      ],
      "metadata": {
        "id": "3EX4cCa4WKJu"
      }
    },
    {
      "cell_type": "markdown",
      "source": [
        "# 1. Data\n",
        "The dataset we will use is the well-known CIFAR10 (Canadian Institute For Advanced Research). Explore the details on the Keras website first: https://keras.io/api/datasets/cifar10/\n",
        "\n",
        "After you explored the basic features of the data, let's load it into the memory and explore the shapes:"
      ],
      "metadata": {
        "id": "yY9fztIeWIKt"
      }
    },
    {
      "cell_type": "code",
      "source": [
        "from tensorflow.keras.datasets import cifar10\n",
        "from tensorflow.keras.utils import to_categorical\n",
        "import numpy as np"
      ],
      "metadata": {
        "id": "giRZKTjzX_7l"
      },
      "execution_count": 76,
      "outputs": []
    },
    {
      "cell_type": "code",
      "source": [
        "(X_train, Y_train), (X_test, Y_test) = cifar10.load_data()"
      ],
      "metadata": {
        "id": "bez7q0eiWQCK"
      },
      "execution_count": 77,
      "outputs": []
    },
    {
      "cell_type": "code",
      "source": [
        "print(X_train.shape)\n",
        "print(X_test.shape)\n",
        "print(Y_train.shape)\n",
        "print(Y_test.shape)"
      ],
      "metadata": {
        "id": "2tJoRq5wXywi",
        "colab": {
          "base_uri": "https://localhost:8080/"
        },
        "outputId": "ee01363e-7275-430e-93ba-3ab27dee8723"
      },
      "execution_count": 78,
      "outputs": [
        {
          "output_type": "stream",
          "name": "stdout",
          "text": [
            "(50000, 32, 32, 3)\n",
            "(10000, 32, 32, 3)\n",
            "(50000, 1)\n",
            "(10000, 1)\n"
          ]
        }
      ]
    },
    {
      "cell_type": "markdown",
      "source": [
        "## 1.1. Exercise\n",
        "Display the first ten images of the training data. Hints:\n",
        "* Axis 0 refers to the separate images, e.g. X_train[0]\n",
        "* You can use the [Matplotlib Pyplot imshow function](https://matplotlib.org/stable/api/_as_gen/matplotlib.pyplot.imshow.html) for displaying the image. Just don't forget to import Plotly first!\n",
        "* A corresponding example, but you have to modify the code for your purpose: https://stackoverflow.com/questions/46615554/how-to-display-multiple-images-in-one-figure-correctly"
      ],
      "metadata": {
        "id": "zTCSGFyDlNvf"
      }
    },
    {
      "cell_type": "code",
      "source": [
        "import matplotlib.pyplot as plt\n",
        "\n",
        "fig = plt.figure(figsize=(16, 6))\n",
        "columns = 5\n",
        "rows = 2\n",
        "\n",
        "for i in range(0, columns*rows):\n",
        "    img = X_train[i]\n",
        "    fig.add_subplot(rows, columns, i+1)\n",
        "    plt.imshow(img)\n",
        "plt.show()"
      ],
      "metadata": {
        "id": "hIQhHTppmBdO",
        "colab": {
          "base_uri": "https://localhost:8080/",
          "height": 524
        },
        "outputId": "bdc6986b-60ad-4dd9-93a2-e3a4f7d3e71e"
      },
      "execution_count": 79,
      "outputs": [
        {
          "output_type": "display_data",
          "data": {
            "text/plain": [
              "<Figure size 1600x600 with 10 Axes>"
            ],
            "image/png": "[encoded data removed]"
          },
          "metadata": {}
        }
      ]
    },
    {
      "cell_type": "markdown",
      "source": [
        "Print the corresponding labels of the displayed images from the target variable (Y_train):"
      ],
      "metadata": {
        "id": "FAQkUWlmm-bc"
      }
    },
    {
      "cell_type": "code",
      "source": [
        "classes = [\"airplane\", \"automobile\", \"bird\", \"cat\", \"deer\", \"dog\",\t\"frog\",\t\"horse\",\t\"ship\",\t\"truck\"]\n",
        "\n",
        "for i in range(10):\n",
        "    labelNum = Y_train[i]\n",
        "    label = classes[labelNum[0]]\n",
        "    print(label)"
      ],
      "metadata": {
        "id": "AkOrWzghnJ78",
        "colab": {
          "base_uri": "https://localhost:8080/"
        },
        "outputId": "d40f0fae-0498-4290-9507-92f60b1ad89a"
      },
      "execution_count": 80,
      "outputs": [
        {
          "output_type": "stream",
          "name": "stdout",
          "text": [
            "frog\n",
            "truck\n",
            "truck\n",
            "deer\n",
            "automobile\n",
            "automobile\n",
            "bird\n",
            "horse\n",
            "ship\n",
            "cat\n"
          ]
        }
      ]
    },
    {
      "cell_type": "markdown",
      "source": [
        "## 1.2. Exercise\n",
        "We will train a Multi-Layer Perceptron (MLP), which requires a 2 dimensional input: 0th axis refers to the datapoints (i.e. images), the 1th dimens to the input. As images are 3 dimensional (width, height, color channels), you have to reshape the images into vectors. We also call this flattening.\n",
        "\n",
        "In order to do so, calculate the size of the equivalent 1D vector of the image:"
      ],
      "metadata": {
        "id": "VX24g5FstsRU"
      }
    },
    {
      "cell_type": "code",
      "source": [
        "image_shape = X_train.shape[1:]  # Get the shape of a single image\n",
        "flattened_dim = np.prod(image_shape)\n",
        "print(flattened_dim)"
      ],
      "metadata": {
        "id": "hdoMyxHzuXZG",
        "colab": {
          "base_uri": "https://localhost:8080/"
        },
        "outputId": "09619a78-eeb1-4130-8778-a4192fee8405"
      },
      "execution_count": 81,
      "outputs": [
        {
          "output_type": "stream",
          "name": "stdout",
          "text": [
            "3072\n"
          ]
        }
      ]
    },
    {
      "cell_type": "markdown",
      "source": [
        "After you calculated it, we can reshape the images, and covert the integer arrays into float arrays -- which are needed for the neural networks as input. Hint:\n",
        "* in the [reshape() function of Numpy](https://www.w3schools.com/python/numpy/numpy_array_reshape.asp) you can use -1 for one axis, to automatically calculate that value."
      ],
      "metadata": {
        "id": "WbqXJUSFubeC"
      }
    },
    {
      "cell_type": "code",
      "source": [
        "# reshape 3D tensors to 2D tensors\n",
        "X_train = X_train.reshape(-1, flattened_dim)\n",
        "X_test = X_test.reshape(-1, flattened_dim)\n",
        "\n",
        "# it is in int8 format, the neural network requires float32\n",
        "X_train = X_train.astype(np.float32)\n",
        "X_test = X_test.astype(np.float32)"
      ],
      "metadata": {
        "id": "vukOcBM0XzSj"
      },
      "execution_count": 82,
      "outputs": []
    },
    {
      "cell_type": "markdown",
      "source": [
        "## 1.3. Exercise\n",
        "As the next step, let's split the training data into training and validation data. 80% of the original training data should be the final training data, and 20% the validation.\n",
        "You should use Numpy indexing to select the first 80% of X_train as final X_train, and the last 20% as X_valid. Hints:\n",
        "* https://datascienceparichay.com/article/numpy-array-first-n-rows/\n",
        "* https://datascienceparichay.com/article/numpy-array-last-n-rows/"
      ],
      "metadata": {
        "id": "DO79AdIdvVfD"
      }
    },
    {
      "cell_type": "code",
      "source": [
        "train_ratio  = 0.8\n",
        "train_length = len(X_train) # length of the training data\n",
        "train_split  = int(train_ratio * train_length) # where to split the training and validation data\n",
        "X_valid, Y_valid = X_train[train_split:], Y_train[train_split:]\n",
        "X_train, Y_train = X_train[:train_split], Y_train[:train_split]\n",
        "print(len(X_valid))\n",
        "print(len(X_train))"
      ],
      "metadata": {
        "id": "mRwuWxxIxLgN",
        "colab": {
          "base_uri": "https://localhost:8080/"
        },
        "outputId": "c275515c-7761-49f8-9765-4f240c47a83c"
      },
      "execution_count": 83,
      "outputs": [
        {
          "output_type": "stream",
          "name": "stdout",
          "text": [
            "10000\n",
            "40000\n"
          ]
        }
      ]
    },
    {
      "cell_type": "markdown",
      "source": [
        "## 1.4. Exercise\n",
        "As the last step of input data preparation, the data should be standardized. Calculate the mean and variance of the training data (elementvise -- so for each value of the flattened image you should get a mean and variance for the training data along 0th axis). Hint:\n",
        "* https://stackoverflow.com/questions/70626231/how-to-calculate-mean-variance-standard-deviation-per-index-of-array"
      ],
      "metadata": {
        "id": "z05y_QWDxWER"
      }
    },
    {
      "cell_type": "code",
      "source": [
        "mean = np.mean(X_train, axis=0)\n",
        "std  = np.std(X_train, axis=0)"
      ],
      "metadata": {
        "id": "TSZbvWCBx8Ea"
      },
      "execution_count": 84,
      "outputs": []
    },
    {
      "cell_type": "markdown",
      "source": [
        "Next, use the resulting values to standardize the training, validation and test data by substracting the mean and dividing the result with the standard deviation."
      ],
      "metadata": {
        "id": "6WRHKkkjyN1S"
      }
    },
    {
      "cell_type": "code",
      "source": [
        "X_train = (X_train-mean)/std\n",
        "X_valid = (X_valid-mean)/std\n",
        "X_test  = (X_test-mean)/std"
      ],
      "metadata": {
        "id": "2ESLP1EIyB2J"
      },
      "execution_count": 85,
      "outputs": []
    },
    {
      "cell_type": "markdown",
      "source": [
        "## 1.5. Exercise\n",
        "And as the last step, convert the dense representation of the classes (i.e. 0,1,2,3...9) to one-hot encoding (0 = [1 0 0 0 0 0 0 0 0 0], 1 = [0 1 0 0 0 0 0 0 0 0] ... 9 = [0 0 0 0 0 0 0 0 0 1]). To do this, first, calculate the number of unique elements in the target training data. Hints:\n",
        "* use the [unique() function](https://numpy.org/doc/stable/reference/generated/numpy.unique.html) of Numpy to list the unique elements\n",
        "* you can count the number of elements in a list with the [len() function](https://www.w3schools.com/python/ref_func_len.asp)"
      ],
      "metadata": {
        "id": "ooHCnUin7r4o"
      }
    },
    {
      "cell_type": "code",
      "source": [
        "nb_classes = len(np.unique(Y_train))\n",
        "\n",
        "print(f\"Number of classes: {nb_classes}\")"
      ],
      "metadata": {
        "id": "i0LAO9cs8KEE",
        "colab": {
          "base_uri": "https://localhost:8080/"
        },
        "outputId": "32630977-48c8-4af8-a28b-9a6b9e574db7"
      },
      "execution_count": 86,
      "outputs": [
        {
          "output_type": "stream",
          "name": "stdout",
          "text": [
            "Number of classes: 10\n"
          ]
        }
      ]
    },
    {
      "cell_type": "markdown",
      "source": [
        "Doublecheck, if the same number of classes exists in the validation and test target data:"
      ],
      "metadata": {
        "id": "BvM6XhGe8JU9"
      }
    },
    {
      "cell_type": "code",
      "source": [
        "print(\"Validation data has the same number of classes, as the training data:\", nb_classes == len(np.unique(Y_valid)))\n",
        "print(\"Test data has the same number of classes, as the training data:\", nb_classes == len(np.unique(Y_test)))"
      ],
      "metadata": {
        "id": "eZFNSsyx_Py2",
        "colab": {
          "base_uri": "https://localhost:8080/"
        },
        "outputId": "57312f76-a8cc-4626-a947-3d1d158bffd6"
      },
      "execution_count": 87,
      "outputs": [
        {
          "output_type": "stream",
          "name": "stdout",
          "text": [
            "Validation data has the same number of classes, as the training data: True\n",
            "Test data has the same number of classes, as the training data: True\n"
          ]
        }
      ]
    },
    {
      "cell_type": "markdown",
      "source": [
        "And convert the dense representation into one-hot encoding. Hint:\n",
        "* use the [to_categorical function](https://www.tensorflow.org/api_docs/python/tf/keras/utils/to_categorical) with the calculated nb_classes\n"
      ],
      "metadata": {
        "id": "mJM-iBmR8dLe"
      }
    },
    {
      "cell_type": "code",
      "source": [
        "Y_train = to_categorical(Y_train, nb_classes)\n",
        "Y_valid = to_categorical(Y_valid, nb_classes)\n",
        "Y_test  = to_categorical(Y_test, nb_classes)"
      ],
      "metadata": {
        "id": "xwZ4OJ6I8lba"
      },
      "execution_count": 88,
      "outputs": []
    },
    {
      "cell_type": "markdown",
      "source": [
        "## Final check of data preparation\n",
        "Now, lets check the shapes and mean and standard deviation of the training, validation and test data."
      ],
      "metadata": {
        "id": "LshN2OSsv3TZ"
      }
    },
    {
      "cell_type": "code",
      "source": [
        "print(\"Shapes of the training, validation and test input data:\", X_train.shape, X_valid.shape, X_test.shape)\n",
        "print(\"Shapes of the training, validation and test output data:\", Y_train.shape, Y_valid.shape, Y_test.shape)\n",
        "print(\"Mean values of the training, validation and test input data:\", X_train.mean(), X_valid.mean(), X_test.mean())\n",
        "print(\"Standard deviation of the training, validation and test input data:\", X_train.std(), X_valid.std(), X_test.std())"
      ],
      "metadata": {
        "id": "O_jdJVcvX0vi",
        "colab": {
          "base_uri": "https://localhost:8080/"
        },
        "outputId": "bfa4b482-7a31-47a2-82a9-aabbbc1ad17f"
      },
      "execution_count": 89,
      "outputs": [
        {
          "output_type": "stream",
          "name": "stdout",
          "text": [
            "Shapes of the training, validation and test input data: (40000, 3072) (10000, 3072) (10000, 3072)\n",
            "Shapes of the training, validation and test output data: (40000, 10) (10000, 10) (10000, 10)\n",
            "Mean values of the training, validation and test input data: -2.4725992e-09 0.0023437182 0.013331188\n",
            "Standard deviation of the training, validation and test input data: 1.0000038 0.99656224 0.9978297\n"
          ]
        }
      ]
    },
    {
      "cell_type": "markdown",
      "source": [
        "Don't worry, if the mean and standard deviation of the validation and test data are not exactly 0 and 1, but these might be very mear to it (e.g. 0.01 mean, 0.99 variance)."
      ],
      "metadata": {
        "id": "5GtAOOoezmZY"
      }
    },
    {
      "cell_type": "markdown",
      "metadata": {
        "id": "cJ14oyZExpqj"
      },
      "source": [
        "# 2. Training"
      ]
    },
    {
      "cell_type": "markdown",
      "metadata": {
        "id": "s4ZXYRMBxpql"
      },
      "source": [
        "Let us begin with a simple example of creating a small neural network without regularization and training it with actual data. The purpose of this is to provide you with an example as to how to proceed with the next exercise."
      ]
    },
    {
      "cell_type": "code",
      "source": [
        "# imports\n",
        "import numpy as np\n",
        "import matplotlib.pyplot as plt\n",
        "from tensorflow.keras.models import Sequential\n",
        "from tensorflow.keras.layers import Dense, Embedding, Flatten, Dropout\n",
        "from tensorflow.keras.initializers import HeNormal\n",
        "from tensorflow.keras.callbacks import EarlyStopping"
      ],
      "metadata": {
        "id": "6-8Q6ll7ZDgq"
      },
      "execution_count": 90,
      "outputs": []
    },
    {
      "cell_type": "code",
      "source": [
        "# model definition\n",
        "model = Sequential()\n",
        "model.add(Dense(128, activation='tanh', input_shape=(flattened_dim,)))\n",
        "model.add(Dense(128, activation='tanh'))\n",
        "model.add(Dense(nb_classes, activation='softmax'))\n",
        "\n",
        "# loss function and optimizer\n",
        "model.compile(loss='categorical_crossentropy', optimizer='adam', metrics=['accuracy'])"
      ],
      "metadata": {
        "id": "pke6w3CD8DHp"
      },
      "execution_count": 91,
      "outputs": []
    },
    {
      "cell_type": "code",
      "metadata": {
        "id": "CZbOR76QxprC",
        "colab": {
          "base_uri": "https://localhost:8080/"
        },
        "outputId": "0be25a20-aa4b-4b82-8714-8eedacb5fea3"
      },
      "source": [
        "# training\n",
        "network_history = model.fit(X_train, Y_train,\n",
        "                            validation_data=(X_valid,Y_valid),\n",
        "                            batch_size=128,\n",
        "                            epochs=40,\n",
        "                            verbose=1)"
      ],
      "execution_count": 92,
      "outputs": [
        {
          "output_type": "stream",
          "name": "stdout",
          "text": [
            "Epoch 1/40\n",
            "\u001b[1m313/313\u001b[0m \u001b[32m━━━━━━━━━━━━━━━━━━━━\u001b[0m\u001b[37m\u001b[0m \u001b[1m8s\u001b[0m 19ms/step - accuracy: 0.3283 - loss: 1.9063 - val_accuracy: 0.3921 - val_loss: 1.7510\n",
            "Epoch 2/40\n",
            "\u001b[1m313/313\u001b[0m \u001b[32m━━━━━━━━━━━━━━━━━━━━\u001b[0m\u001b[37m\u001b[0m \u001b[1m9s\u001b[0m 16ms/step - accuracy: 0.4146 - loss: 1.6879 - val_accuracy: 0.3947 - val_loss: 1.7202\n",
            "Epoch 3/40\n",
            "\u001b[1m313/313\u001b[0m \u001b[32m━━━━━━━━━━━━━━━━━━━━\u001b[0m\u001b[37m\u001b[0m \u001b[1m9s\u001b[0m 14ms/step - accuracy: 0.4350 - loss: 1.6354 - val_accuracy: 0.4121 - val_loss: 1.6986\n",
            "Epoch 4/40\n",
            "\u001b[1m313/313\u001b[0m \u001b[32m━━━━━━━━━━━━━━━━━━━━\u001b[0m\u001b[37m\u001b[0m \u001b[1m6s\u001b[0m 17ms/step - accuracy: 0.4517 - loss: 1.5814 - val_accuracy: 0.4175 - val_loss: 1.6798\n",
            "Epoch 5/40\n",
            "\u001b[1m313/313\u001b[0m \u001b[32m━━━━━━━━━━━━━━━━━━━━\u001b[0m\u001b[37m\u001b[0m \u001b[1m4s\u001b[0m 14ms/step - accuracy: 0.4607 - loss: 1.5602 - val_accuracy: 0.4113 - val_loss: 1.6814\n",
            "Epoch 6/40\n",
            "\u001b[1m313/313\u001b[0m \u001b[32m━━━━━━━━━━━━━━━━━━━━\u001b[0m\u001b[37m\u001b[0m \u001b[1m6s\u001b[0m 17ms/step - accuracy: 0.4752 - loss: 1.5188 - val_accuracy: 0.4226 - val_loss: 1.6579\n",
            "Epoch 7/40\n",
            "\u001b[1m313/313\u001b[0m \u001b[32m━━━━━━━━━━━━━━━━━━━━\u001b[0m\u001b[37m\u001b[0m \u001b[1m5s\u001b[0m 15ms/step - accuracy: 0.4832 - loss: 1.4909 - val_accuracy: 0.4252 - val_loss: 1.6504\n",
            "Epoch 8/40\n",
            "\u001b[1m313/313\u001b[0m \u001b[32m━━━━━━━━━━━━━━━━━━━━\u001b[0m\u001b[37m\u001b[0m \u001b[1m5s\u001b[0m 14ms/step - accuracy: 0.4953 - loss: 1.4706 - val_accuracy: 0.4318 - val_loss: 1.6373\n",
            "Epoch 9/40\n",
            "\u001b[1m313/313\u001b[0m \u001b[32m━━━━━━━━━━━━━━━━━━━━\u001b[0m\u001b[37m\u001b[0m \u001b[1m5s\u001b[0m 17ms/step - accuracy: 0.5019 - loss: 1.4436 - val_accuracy: 0.4353 - val_loss: 1.6253\n",
            "Epoch 10/40\n",
            "\u001b[1m313/313\u001b[0m \u001b[32m━━━━━━━━━━━━━━━━━━━━\u001b[0m\u001b[37m\u001b[0m \u001b[1m4s\u001b[0m 14ms/step - accuracy: 0.5071 - loss: 1.4225 - val_accuracy: 0.4375 - val_loss: 1.6384\n",
            "Epoch 11/40\n",
            "\u001b[1m313/313\u001b[0m \u001b[32m━━━━━━━━━━━━━━━━━━━━\u001b[0m\u001b[37m\u001b[0m \u001b[1m6s\u001b[0m 16ms/step - accuracy: 0.5185 - loss: 1.3877 - val_accuracy: 0.4358 - val_loss: 1.6307\n",
            "Epoch 12/40\n",
            "\u001b[1m313/313\u001b[0m \u001b[32m━━━━━━━━━━━━━━━━━━━━\u001b[0m\u001b[37m\u001b[0m \u001b[1m5s\u001b[0m 15ms/step - accuracy: 0.5217 - loss: 1.3781 - val_accuracy: 0.4411 - val_loss: 1.6221\n",
            "Epoch 13/40\n",
            "\u001b[1m313/313\u001b[0m \u001b[32m━━━━━━━━━━━━━━━━━━━━\u001b[0m\u001b[37m\u001b[0m \u001b[1m4s\u001b[0m 14ms/step - accuracy: 0.5353 - loss: 1.3410 - val_accuracy: 0.4417 - val_loss: 1.6127\n",
            "Epoch 14/40\n",
            "\u001b[1m313/313\u001b[0m \u001b[32m━━━━━━━━━━━━━━━━━━━━\u001b[0m\u001b[37m\u001b[0m \u001b[1m6s\u001b[0m 17ms/step - accuracy: 0.5355 - loss: 1.3304 - val_accuracy: 0.4364 - val_loss: 1.6353\n",
            "Epoch 15/40\n",
            "\u001b[1m313/313\u001b[0m \u001b[32m━━━━━━━━━━━━━━━━━━━━\u001b[0m\u001b[37m\u001b[0m \u001b[1m9s\u001b[0m 14ms/step - accuracy: 0.5452 - loss: 1.3107 - val_accuracy: 0.4465 - val_loss: 1.6150\n",
            "Epoch 16/40\n",
            "\u001b[1m313/313\u001b[0m \u001b[32m━━━━━━━━━━━━━━━━━━━━\u001b[0m\u001b[37m\u001b[0m \u001b[1m5s\u001b[0m 17ms/step - accuracy: 0.5535 - loss: 1.2840 - val_accuracy: 0.4460 - val_loss: 1.6220\n",
            "Epoch 17/40\n",
            "\u001b[1m313/313\u001b[0m \u001b[32m━━━━━━━━━━━━━━━━━━━━\u001b[0m\u001b[37m\u001b[0m \u001b[1m4s\u001b[0m 13ms/step - accuracy: 0.5660 - loss: 1.2547 - val_accuracy: 0.4533 - val_loss: 1.6099\n",
            "Epoch 18/40\n",
            "\u001b[1m313/313\u001b[0m \u001b[32m━━━━━━━━━━━━━━━━━━━━\u001b[0m\u001b[37m\u001b[0m \u001b[1m6s\u001b[0m 17ms/step - accuracy: 0.5716 - loss: 1.2355 - val_accuracy: 0.4489 - val_loss: 1.6193\n",
            "Epoch 19/40\n",
            "\u001b[1m313/313\u001b[0m \u001b[32m━━━━━━━━━━━━━━━━━━━━\u001b[0m\u001b[37m\u001b[0m \u001b[1m4s\u001b[0m 14ms/step - accuracy: 0.5791 - loss: 1.2173 - val_accuracy: 0.4526 - val_loss: 1.6321\n",
            "Epoch 20/40\n",
            "\u001b[1m313/313\u001b[0m \u001b[32m━━━━━━━━━━━━━━━━━━━━\u001b[0m\u001b[37m\u001b[0m \u001b[1m4s\u001b[0m 13ms/step - accuracy: 0.5819 - loss: 1.2051 - val_accuracy: 0.4468 - val_loss: 1.6399\n",
            "Epoch 21/40\n",
            "\u001b[1m313/313\u001b[0m \u001b[32m━━━━━━━━━━━━━━━━━━━━\u001b[0m\u001b[37m\u001b[0m \u001b[1m6s\u001b[0m 18ms/step - accuracy: 0.5912 - loss: 1.1784 - val_accuracy: 0.4509 - val_loss: 1.6350\n",
            "Epoch 22/40\n",
            "\u001b[1m313/313\u001b[0m \u001b[32m━━━━━━━━━━━━━━━━━━━━\u001b[0m\u001b[37m\u001b[0m \u001b[1m4s\u001b[0m 14ms/step - accuracy: 0.5934 - loss: 1.1682 - val_accuracy: 0.4511 - val_loss: 1.6448\n",
            "Epoch 23/40\n",
            "\u001b[1m313/313\u001b[0m \u001b[32m━━━━━━━━━━━━━━━━━━━━\u001b[0m\u001b[37m\u001b[0m \u001b[1m6s\u001b[0m 16ms/step - accuracy: 0.5985 - loss: 1.1522 - val_accuracy: 0.4499 - val_loss: 1.6437\n",
            "Epoch 24/40\n",
            "\u001b[1m313/313\u001b[0m \u001b[32m━━━━━━━━━━━━━━━━━━━━\u001b[0m\u001b[37m\u001b[0m \u001b[1m5s\u001b[0m 15ms/step - accuracy: 0.6049 - loss: 1.1391 - val_accuracy: 0.4513 - val_loss: 1.6422\n",
            "Epoch 25/40\n",
            "\u001b[1m313/313\u001b[0m \u001b[32m━━━━━━━━━━━━━━━━━━━━\u001b[0m\u001b[37m\u001b[0m \u001b[1m4s\u001b[0m 14ms/step - accuracy: 0.6079 - loss: 1.1226 - val_accuracy: 0.4500 - val_loss: 1.6506\n",
            "Epoch 26/40\n",
            "\u001b[1m313/313\u001b[0m \u001b[32m━━━━━━━━━━━━━━━━━━━━\u001b[0m\u001b[37m\u001b[0m \u001b[1m6s\u001b[0m 17ms/step - accuracy: 0.6213 - loss: 1.1116 - val_accuracy: 0.4480 - val_loss: 1.6641\n",
            "Epoch 27/40\n",
            "\u001b[1m313/313\u001b[0m \u001b[32m━━━━━━━━━━━━━━━━━━━━\u001b[0m\u001b[37m\u001b[0m \u001b[1m9s\u001b[0m 13ms/step - accuracy: 0.6216 - loss: 1.0800 - val_accuracy: 0.4471 - val_loss: 1.6803\n",
            "Epoch 28/40\n",
            "\u001b[1m313/313\u001b[0m \u001b[32m━━━━━━━━━━━━━━━━━━━━\u001b[0m\u001b[37m\u001b[0m \u001b[1m5s\u001b[0m 14ms/step - accuracy: 0.6321 - loss: 1.0569 - val_accuracy: 0.4463 - val_loss: 1.6885\n",
            "Epoch 29/40\n",
            "\u001b[1m313/313\u001b[0m \u001b[32m━━━━━━━━━━━━━━━━━━━━\u001b[0m\u001b[37m\u001b[0m \u001b[1m5s\u001b[0m 14ms/step - accuracy: 0.6318 - loss: 1.0587 - val_accuracy: 0.4485 - val_loss: 1.6831\n",
            "Epoch 30/40\n",
            "\u001b[1m313/313\u001b[0m \u001b[32m━━━━━━━━━━━━━━━━━━━━\u001b[0m\u001b[37m\u001b[0m \u001b[1m5s\u001b[0m 17ms/step - accuracy: 0.6392 - loss: 1.0382 - val_accuracy: 0.4490 - val_loss: 1.6968\n",
            "Epoch 31/40\n",
            "\u001b[1m313/313\u001b[0m \u001b[32m━━━━━━━━━━━━━━━━━━━━\u001b[0m\u001b[37m\u001b[0m \u001b[1m9s\u001b[0m 13ms/step - accuracy: 0.6486 - loss: 1.0201 - val_accuracy: 0.4405 - val_loss: 1.7154\n",
            "Epoch 32/40\n",
            "\u001b[1m313/313\u001b[0m \u001b[32m━━━━━━━━━━━━━━━━━━━━\u001b[0m\u001b[37m\u001b[0m \u001b[1m6s\u001b[0m 16ms/step - accuracy: 0.6577 - loss: 0.9918 - val_accuracy: 0.4424 - val_loss: 1.7357\n",
            "Epoch 33/40\n",
            "\u001b[1m313/313\u001b[0m \u001b[32m━━━━━━━━━━━━━━━━━━━━\u001b[0m\u001b[37m\u001b[0m \u001b[1m4s\u001b[0m 13ms/step - accuracy: 0.6646 - loss: 0.9782 - val_accuracy: 0.4443 - val_loss: 1.7457\n",
            "Epoch 34/40\n",
            "\u001b[1m313/313\u001b[0m \u001b[32m━━━━━━━━━━━━━━━━━━━━\u001b[0m\u001b[37m\u001b[0m \u001b[1m6s\u001b[0m 18ms/step - accuracy: 0.6694 - loss: 0.9701 - val_accuracy: 0.4502 - val_loss: 1.7425\n",
            "Epoch 35/40\n",
            "\u001b[1m313/313\u001b[0m \u001b[32m━━━━━━━━━━━━━━━━━━━━\u001b[0m\u001b[37m\u001b[0m \u001b[1m9s\u001b[0m 14ms/step - accuracy: 0.6701 - loss: 0.9571 - val_accuracy: 0.4496 - val_loss: 1.7490\n",
            "Epoch 36/40\n",
            "\u001b[1m313/313\u001b[0m \u001b[32m━━━━━━━━━━━━━━━━━━━━\u001b[0m\u001b[37m\u001b[0m \u001b[1m6s\u001b[0m 19ms/step - accuracy: 0.6782 - loss: 0.9363 - val_accuracy: 0.4466 - val_loss: 1.7846\n",
            "Epoch 37/40\n",
            "\u001b[1m313/313\u001b[0m \u001b[32m━━━━━━━━━━━━━━━━━━━━\u001b[0m\u001b[37m\u001b[0m \u001b[1m10s\u001b[0m 18ms/step - accuracy: 0.6840 - loss: 0.9198 - val_accuracy: 0.4433 - val_loss: 1.7838\n",
            "Epoch 38/40\n",
            "\u001b[1m313/313\u001b[0m \u001b[32m━━━━━━━━━━━━━━━━━━━━\u001b[0m\u001b[37m\u001b[0m \u001b[1m5s\u001b[0m 14ms/step - accuracy: 0.6884 - loss: 0.8998 - val_accuracy: 0.4411 - val_loss: 1.7723\n",
            "Epoch 39/40\n",
            "\u001b[1m313/313\u001b[0m \u001b[32m━━━━━━━━━━━━━━━━━━━━\u001b[0m\u001b[37m\u001b[0m \u001b[1m5s\u001b[0m 14ms/step - accuracy: 0.6943 - loss: 0.8940 - val_accuracy: 0.4401 - val_loss: 1.8097\n",
            "Epoch 40/40\n",
            "\u001b[1m313/313\u001b[0m \u001b[32m━━━━━━━━━━━━━━━━━━━━\u001b[0m\u001b[37m\u001b[0m \u001b[1m6s\u001b[0m 18ms/step - accuracy: 0.6951 - loss: 0.8825 - val_accuracy: 0.4463 - val_loss: 1.8182\n"
          ]
        }
      ]
    },
    {
      "cell_type": "markdown",
      "metadata": {
        "id": "uFqhzV85xprJ"
      },
      "source": [
        "Let's plot the training and validation loss and accuracy curves:"
      ]
    },
    {
      "cell_type": "code",
      "metadata": {
        "id": "BYmXGkLCxprK",
        "colab": {
          "base_uri": "https://localhost:8080/",
          "height": 881
        },
        "outputId": "b40bdab0-4d8e-4db4-d4b5-b799603eb214"
      },
      "source": [
        "def plot_history(network_history):\n",
        "    plt.figure()\n",
        "    plt.xlabel('Epochs')\n",
        "    plt.ylabel('Loss')\n",
        "    plt.plot(network_history.history['loss'])\n",
        "    plt.plot(network_history.history['val_loss'])\n",
        "    plt.legend(['Training', 'Validation'])\n",
        "\n",
        "    plt.figure()\n",
        "    plt.xlabel('Epochs')\n",
        "    plt.ylabel('Accuracy')\n",
        "    plt.plot(network_history.history['accuracy'])\n",
        "    plt.plot(network_history.history['val_accuracy'])\n",
        "    plt.legend(['Training', 'Validation'], loc='lower right')\n",
        "    plt.show()\n",
        "\n",
        "plot_history(network_history)"
      ],
      "execution_count": 93,
      "outputs": [
        {
          "output_type": "display_data",
          "data": {
            "text/plain": [
              "<Figure size 640x480 with 1 Axes>"
            ],
            "image/png": "[encoded data removed]"
          },
          "metadata": {}
        },
        {
          "output_type": "display_data",
          "data": {
            "text/plain": [
              "<Figure size 640x480 with 1 Axes>"
            ],
            "image/png": "[encoded data removed]"
          },
          "metadata": {}
        }
      ]
    },
    {
      "cell_type": "markdown",
      "source": [
        "What do you think? Does it overfit?"
      ],
      "metadata": {
        "id": "tgG7QeXF-dx6"
      }
    },
    {
      "cell_type": "markdown",
      "metadata": {
        "id": "_Q9rIeBBxprO"
      },
      "source": [
        "# Inspecting the model"
      ]
    },
    {
      "cell_type": "code",
      "metadata": {
        "id": "6r2AmmoMxprP",
        "colab": {
          "base_uri": "https://localhost:8080/",
          "height": 248
        },
        "outputId": "031201cb-afb9-417f-afae-a3c83a1e2746"
      },
      "source": [
        "model.summary()"
      ],
      "execution_count": 94,
      "outputs": [
        {
          "output_type": "display_data",
          "data": {
            "text/plain": [
              "\u001b[1mModel: \"sequential_9\"\u001b[0m\n"
            ],
            "text/html": [
              "<pre style=\"white-space:pre;overflow-x:auto;line-height:normal;font-family:Menlo,'DejaVu Sans Mono',consolas,'Courier New',monospace\"><span style=\"font-weight: bold\">Model: \"sequential_9\"</span>\n",
              "</pre>\n"
            ]
          },
          "metadata": {}
        },
        {
          "output_type": "display_data",
          "data": {
            "text/plain": [
              "┏━━━━━━━━━━━━━━━━━━━━━━━━━━━━━━━━━━━━━━┳━━━━━━━━━━━━━━━━━━━━━━━━━━━━━┳━━━━━━━━━━━━━━━━━┓\n",
              "┃\u001b[1m \u001b[0m\u001b[1mLayer (type)                        \u001b[0m\u001b[1m \u001b[0m┃\u001b[1m \u001b[0m\u001b[1mOutput Shape               \u001b[0m\u001b[1m \u001b[0m┃\u001b[1m \u001b[0m\u001b[1m        Param #\u001b[0m\u001b[1m \u001b[0m┃\n",
              "┡━━━━━━━━━━━━━━━━━━━━━━━━━━━━━━━━━━━━━━╇━━━━━━━━━━━━━━━━━━━━━━━━━━━━━╇━━━━━━━━━━━━━━━━━┩\n",
              "│ dense_25 (\u001b[38;5;33mDense\u001b[0m)                     │ (\u001b[38;5;45mNone\u001b[0m, \u001b[38;5;34m128\u001b[0m)                 │         \u001b[38;5;34m393,344\u001b[0m │\n",
              "├──────────────────────────────────────┼─────────────────────────────┼─────────────────┤\n",
              "│ dense_26 (\u001b[38;5;33mDense\u001b[0m)                     │ (\u001b[38;5;45mNone\u001b[0m, \u001b[38;5;34m128\u001b[0m)                 │          \u001b[38;5;34m16,512\u001b[0m │\n",
              "├──────────────────────────────────────┼─────────────────────────────┼─────────────────┤\n",
              "│ dense_27 (\u001b[38;5;33mDense\u001b[0m)                     │ (\u001b[38;5;45mNone\u001b[0m, \u001b[38;5;34m10\u001b[0m)                  │           \u001b[38;5;34m1,290\u001b[0m │\n",
              "└──────────────────────────────────────┴─────────────────────────────┴─────────────────┘\n"
            ],
            "text/html": [
              "<pre style=\"white-space:pre;overflow-x:auto;line-height:normal;font-family:Menlo,'DejaVu Sans Mono',consolas,'Courier New',monospace\">┏━━━━━━━━━━━━━━━━━━━━━━━━━━━━━━━━━━━━━━┳━━━━━━━━━━━━━━━━━━━━━━━━━━━━━┳━━━━━━━━━━━━━━━━━┓\n",
              "┃<span style=\"font-weight: bold\"> Layer (type)                         </span>┃<span style=\"font-weight: bold\"> Output Shape                </span>┃<span style=\"font-weight: bold\">         Param # </span>┃\n",
              "┡━━━━━━━━━━━━━━━━━━━━━━━━━━━━━━━━━━━━━━╇━━━━━━━━━━━━━━━━━━━━━━━━━━━━━╇━━━━━━━━━━━━━━━━━┩\n",
              "│ dense_25 (<span style=\"color: #0087ff; text-decoration-color: #0087ff\">Dense</span>)                     │ (<span style=\"color: #00d7ff; text-decoration-color: #00d7ff\">None</span>, <span style=\"color: #00af00; text-decoration-color: #00af00\">128</span>)                 │         <span style=\"color: #00af00; text-decoration-color: #00af00\">393,344</span> │\n",
              "├──────────────────────────────────────┼─────────────────────────────┼─────────────────┤\n",
              "│ dense_26 (<span style=\"color: #0087ff; text-decoration-color: #0087ff\">Dense</span>)                     │ (<span style=\"color: #00d7ff; text-decoration-color: #00d7ff\">None</span>, <span style=\"color: #00af00; text-decoration-color: #00af00\">128</span>)                 │          <span style=\"color: #00af00; text-decoration-color: #00af00\">16,512</span> │\n",
              "├──────────────────────────────────────┼─────────────────────────────┼─────────────────┤\n",
              "│ dense_27 (<span style=\"color: #0087ff; text-decoration-color: #0087ff\">Dense</span>)                     │ (<span style=\"color: #00d7ff; text-decoration-color: #00d7ff\">None</span>, <span style=\"color: #00af00; text-decoration-color: #00af00\">10</span>)                  │           <span style=\"color: #00af00; text-decoration-color: #00af00\">1,290</span> │\n",
              "└──────────────────────────────────────┴─────────────────────────────┴─────────────────┘\n",
              "</pre>\n"
            ]
          },
          "metadata": {}
        },
        {
          "output_type": "display_data",
          "data": {
            "text/plain": [
              "\u001b[1m Total params: \u001b[0m\u001b[38;5;34m1,233,440\u001b[0m (4.71 MB)\n"
            ],
            "text/html": [
              "<pre style=\"white-space:pre;overflow-x:auto;line-height:normal;font-family:Menlo,'DejaVu Sans Mono',consolas,'Courier New',monospace\"><span style=\"font-weight: bold\"> Total params: </span><span style=\"color: #00af00; text-decoration-color: #00af00\">1,233,440</span> (4.71 MB)\n",
              "</pre>\n"
            ]
          },
          "metadata": {}
        },
        {
          "output_type": "display_data",
          "data": {
            "text/plain": [
              "\u001b[1m Trainable params: \u001b[0m\u001b[38;5;34m411,146\u001b[0m (1.57 MB)\n"
            ],
            "text/html": [
              "<pre style=\"white-space:pre;overflow-x:auto;line-height:normal;font-family:Menlo,'DejaVu Sans Mono',consolas,'Courier New',monospace\"><span style=\"font-weight: bold\"> Trainable params: </span><span style=\"color: #00af00; text-decoration-color: #00af00\">411,146</span> (1.57 MB)\n",
              "</pre>\n"
            ]
          },
          "metadata": {}
        },
        {
          "output_type": "display_data",
          "data": {
            "text/plain": [
              "\u001b[1m Non-trainable params: \u001b[0m\u001b[38;5;34m0\u001b[0m (0.00 B)\n"
            ],
            "text/html": [
              "<pre style=\"white-space:pre;overflow-x:auto;line-height:normal;font-family:Menlo,'DejaVu Sans Mono',consolas,'Courier New',monospace\"><span style=\"font-weight: bold\"> Non-trainable params: </span><span style=\"color: #00af00; text-decoration-color: #00af00\">0</span> (0.00 B)\n",
              "</pre>\n"
            ]
          },
          "metadata": {}
        },
        {
          "output_type": "display_data",
          "data": {
            "text/plain": [
              "\u001b[1m Optimizer params: \u001b[0m\u001b[38;5;34m822,294\u001b[0m (3.14 MB)\n"
            ],
            "text/html": [
              "<pre style=\"white-space:pre;overflow-x:auto;line-height:normal;font-family:Menlo,'DejaVu Sans Mono',consolas,'Courier New',monospace\"><span style=\"font-weight: bold\"> Optimizer params: </span><span style=\"color: #00af00; text-decoration-color: #00af00\">822,294</span> (3.14 MB)\n",
              "</pre>\n"
            ]
          },
          "metadata": {}
        }
      ]
    },
    {
      "cell_type": "code",
      "metadata": {
        "id": "D3-bVDVuxprS",
        "colab": {
          "base_uri": "https://localhost:8080/"
        },
        "outputId": "944c601f-41f5-4821-968a-e2c7d7d248eb"
      },
      "source": [
        "print('Input: ', model.input_shape)"
      ],
      "execution_count": null,
      "outputs": [
        {
          "output_type": "stream",
          "name": "stdout",
          "text": [
            "Input:  (None, 3072)\n"
          ]
        }
      ]
    },
    {
      "cell_type": "code",
      "metadata": {
        "id": "Da2OJ3DmxprX",
        "colab": {
          "base_uri": "https://localhost:8080/"
        },
        "outputId": "dc83f649-c40d-4ef9-8b6c-c832cf9c765e"
      },
      "source": [
        "print('Layers:\\n')\n",
        "for layer in model.layers:\n",
        "    print(\"Layer's name: \", layer.name, ', trainable: ', layer.trainable)\n",
        "    print(layer.get_config(),'\\n')"
      ],
      "execution_count": null,
      "outputs": [
        {
          "output_type": "stream",
          "name": "stdout",
          "text": [
            "Layers:\n",
            "\n",
            "Layer's name:  dense , trainable:  True\n",
            "{'name': 'dense', 'trainable': True, 'dtype': {'module': 'keras', 'class_name': 'DTypePolicy', 'config': {'name': 'float32'}, 'registered_name': None}, 'units': 128, 'activation': 'tanh', 'use_bias': True, 'kernel_initializer': {'module': 'keras.initializers', 'class_name': 'GlorotUniform', 'config': {'seed': None}, 'registered_name': None}, 'bias_initializer': {'module': 'keras.initializers', 'class_name': 'Zeros', 'config': {}, 'registered_name': None}, 'kernel_regularizer': None, 'bias_regularizer': None, 'kernel_constraint': None, 'bias_constraint': None} \n",
            "\n",
            "Layer's name:  dense_1 , trainable:  True\n",
            "{'name': 'dense_1', 'trainable': True, 'dtype': {'module': 'keras', 'class_name': 'DTypePolicy', 'config': {'name': 'float32'}, 'registered_name': None}, 'units': 128, 'activation': 'tanh', 'use_bias': True, 'kernel_initializer': {'module': 'keras.initializers', 'class_name': 'GlorotUniform', 'config': {'seed': None}, 'registered_name': None}, 'bias_initializer': {'module': 'keras.initializers', 'class_name': 'Zeros', 'config': {}, 'registered_name': None}, 'kernel_regularizer': None, 'bias_regularizer': None, 'kernel_constraint': None, 'bias_constraint': None} \n",
            "\n",
            "Layer's name:  dense_2 , trainable:  True\n",
            "{'name': 'dense_2', 'trainable': True, 'dtype': {'module': 'keras', 'class_name': 'DTypePolicy', 'config': {'name': 'float32'}, 'registered_name': None}, 'units': 10, 'activation': 'softmax', 'use_bias': True, 'kernel_initializer': {'module': 'keras.initializers', 'class_name': 'GlorotUniform', 'config': {'seed': None}, 'registered_name': None}, 'bias_initializer': {'module': 'keras.initializers', 'class_name': 'Zeros', 'config': {}, 'registered_name': None}, 'kernel_regularizer': None, 'bias_regularizer': None, 'kernel_constraint': None, 'bias_constraint': None} \n",
            "\n"
          ]
        }
      ]
    },
    {
      "cell_type": "code",
      "metadata": {
        "id": "AtVX3M3lxprc",
        "colab": {
          "base_uri": "https://localhost:8080/"
        },
        "outputId": "4e605acb-e09d-416c-92e4-746f8c0c3bbb"
      },
      "source": [
        "print('Output: ', model.output_shape)"
      ],
      "execution_count": null,
      "outputs": [
        {
          "output_type": "stream",
          "name": "stdout",
          "text": [
            "Output:  (None, 10)\n"
          ]
        }
      ]
    },
    {
      "cell_type": "markdown",
      "source": [
        "## 2.1. Exercise\n",
        "Introduce [early stopping](https://www.tensorflow.org/api_docs/python/tf/keras/callbacks/EarlyStopping) and [dropout](https://www.tensorflow.org/api_docs/python/tf/keras/layers/Dropout) with a rate between 0.1..0.5. Tips:\n",
        "\n",
        "* Insert the dropout layer between the two Dense layers.\n",
        "* Set the patience of early stopping to 5.\n",
        "* Set the number of epochs to a very high number.\n",
        "* Don't forget to restore best weights after early stopping.\n",
        "* And also set early stopping to monitor validation accuracy (the default value is validation loss -- which is categorical crossentropy now).\n",
        "\n",
        "Compile and train the model. Attempt to increase the validation accuracy as much as possible by making changes to the dropout rate. Inspect the effects of the modifications."
      ],
      "metadata": {
        "id": "E-hHfs9qA_iO"
      }
    },
    {
      "cell_type": "code",
      "source": [
        "es = EarlyStopping(\n",
        "    monitor='val_accuracy',\n",
        "    patience=5,\n",
        "    restore_best_weights=True\n",
        ")"
      ],
      "metadata": {
        "id": "NwXrPzOgEBG-"
      },
      "execution_count": 95,
      "outputs": []
    },
    {
      "cell_type": "code",
      "source": [
        "# model definition with dropout\n",
        "model = Sequential()\n",
        "model.add(Dense(128, activation='tanh', input_shape=(flattened_dim,)))\n",
        "model.add(Dropout(0.4))\n",
        "model.add(Dense(128, activation='tanh'))\n",
        "model.add(Dense(nb_classes, activation='softmax'))\n",
        "\n",
        "# loss function and optimizer\n",
        "model.compile(loss='categorical_crossentropy', optimizer='adam', metrics=['accuracy'])"
      ],
      "metadata": {
        "id": "7hZEGzj8GFwP"
      },
      "execution_count": 96,
      "outputs": []
    },
    {
      "cell_type": "code",
      "source": [
        "# training with early stopping\n",
        "network_history = model.fit(X_train, Y_train,\n",
        "                            validation_data=(X_valid,Y_valid),\n",
        "                            batch_size=128,\n",
        "                            epochs=100,\n",
        "                            verbose=1,\n",
        "                            callbacks=[es])"
      ],
      "metadata": {
        "id": "GCG54R-vGGWj",
        "colab": {
          "base_uri": "https://localhost:8080/"
        },
        "outputId": "e6997433-e687-474f-9f89-438c63071fe4"
      },
      "execution_count": 97,
      "outputs": [
        {
          "output_type": "stream",
          "name": "stdout",
          "text": [
            "Epoch 1/100\n",
            "\u001b[1m313/313\u001b[0m \u001b[32m━━━━━━━━━━━━━━━━━━━━\u001b[0m\u001b[37m\u001b[0m \u001b[1m7s\u001b[0m 18ms/step - accuracy: 0.2902 - loss: 2.0004 - val_accuracy: 0.3738 - val_loss: 1.7891\n",
            "Epoch 2/100\n",
            "\u001b[1m313/313\u001b[0m \u001b[32m━━━━━━━━━━━━━━━━━━━━\u001b[0m\u001b[37m\u001b[0m \u001b[1m9s\u001b[0m 14ms/step - accuracy: 0.3579 - loss: 1.8215 - val_accuracy: 0.3889 - val_loss: 1.7589\n",
            "Epoch 3/100\n",
            "\u001b[1m313/313\u001b[0m \u001b[32m━━━━━━━━━━━━━━━━━━━━\u001b[0m\u001b[37m\u001b[0m \u001b[1m5s\u001b[0m 17ms/step - accuracy: 0.3763 - loss: 1.7766 - val_accuracy: 0.3985 - val_loss: 1.7363\n",
            "Epoch 4/100\n",
            "\u001b[1m313/313\u001b[0m \u001b[32m━━━━━━━━━━━━━━━━━━━━\u001b[0m\u001b[37m\u001b[0m \u001b[1m4s\u001b[0m 14ms/step - accuracy: 0.3934 - loss: 1.7367 - val_accuracy: 0.4080 - val_loss: 1.7026\n",
            "Epoch 5/100\n",
            "\u001b[1m313/313\u001b[0m \u001b[32m━━━━━━━━━━━━━━━━━━━━\u001b[0m\u001b[37m\u001b[0m \u001b[1m6s\u001b[0m 18ms/step - accuracy: 0.3953 - loss: 1.7156 - val_accuracy: 0.4125 - val_loss: 1.6880\n",
            "Epoch 6/100\n",
            "\u001b[1m313/313\u001b[0m \u001b[32m━━━━━━━━━━━━━━━━━━━━\u001b[0m\u001b[37m\u001b[0m \u001b[1m9s\u001b[0m 14ms/step - accuracy: 0.4101 - loss: 1.6862 - val_accuracy: 0.4182 - val_loss: 1.6716\n",
            "Epoch 7/100\n",
            "\u001b[1m313/313\u001b[0m \u001b[32m━━━━━━━━━━━━━━━━━━━━\u001b[0m\u001b[37m\u001b[0m \u001b[1m6s\u001b[0m 18ms/step - accuracy: 0.4213 - loss: 1.6607 - val_accuracy: 0.4220 - val_loss: 1.6581\n",
            "Epoch 8/100\n",
            "\u001b[1m313/313\u001b[0m \u001b[32m━━━━━━━━━━━━━━━━━━━━\u001b[0m\u001b[37m\u001b[0m \u001b[1m4s\u001b[0m 14ms/step - accuracy: 0.4245 - loss: 1.6515 - val_accuracy: 0.4265 - val_loss: 1.6502\n",
            "Epoch 9/100\n",
            "\u001b[1m313/313\u001b[0m \u001b[32m━━━━━━━━━━━━━━━━━━━━\u001b[0m\u001b[37m\u001b[0m \u001b[1m7s\u001b[0m 19ms/step - accuracy: 0.4274 - loss: 1.6342 - val_accuracy: 0.4268 - val_loss: 1.6481\n",
            "Epoch 10/100\n",
            "\u001b[1m313/313\u001b[0m \u001b[32m━━━━━━━━━━━━━━━━━━━━\u001b[0m\u001b[37m\u001b[0m \u001b[1m9s\u001b[0m 14ms/step - accuracy: 0.4330 - loss: 1.6284 - val_accuracy: 0.4305 - val_loss: 1.6371\n",
            "Epoch 11/100\n",
            "\u001b[1m313/313\u001b[0m \u001b[32m━━━━━━━━━━━━━━━━━━━━\u001b[0m\u001b[37m\u001b[0m \u001b[1m5s\u001b[0m 17ms/step - accuracy: 0.4360 - loss: 1.6142 - val_accuracy: 0.4318 - val_loss: 1.6242\n",
            "Epoch 12/100\n",
            "\u001b[1m313/313\u001b[0m \u001b[32m━━━━━━━━━━━━━━━━━━━━\u001b[0m\u001b[37m\u001b[0m \u001b[1m10s\u001b[0m 17ms/step - accuracy: 0.4326 - loss: 1.6111 - val_accuracy: 0.4315 - val_loss: 1.6287\n",
            "Epoch 13/100\n",
            "\u001b[1m313/313\u001b[0m \u001b[32m━━━━━━━━━━━━━━━━━━━━\u001b[0m\u001b[37m\u001b[0m \u001b[1m5s\u001b[0m 15ms/step - accuracy: 0.4393 - loss: 1.5988 - val_accuracy: 0.4337 - val_loss: 1.6082\n",
            "Epoch 14/100\n",
            "\u001b[1m313/313\u001b[0m \u001b[32m━━━━━━━━━━━━━━━━━━━━\u001b[0m\u001b[37m\u001b[0m \u001b[1m5s\u001b[0m 15ms/step - accuracy: 0.4383 - loss: 1.5901 - val_accuracy: 0.4342 - val_loss: 1.6037\n",
            "Epoch 15/100\n",
            "\u001b[1m313/313\u001b[0m \u001b[32m━━━━━━━━━━━━━━━━━━━━\u001b[0m\u001b[37m\u001b[0m \u001b[1m6s\u001b[0m 19ms/step - accuracy: 0.4474 - loss: 1.5755 - val_accuracy: 0.4435 - val_loss: 1.5869\n",
            "Epoch 16/100\n",
            "\u001b[1m313/313\u001b[0m \u001b[32m━━━━━━━━━━━━━━━━━━━━\u001b[0m\u001b[37m\u001b[0m \u001b[1m4s\u001b[0m 14ms/step - accuracy: 0.4472 - loss: 1.5758 - val_accuracy: 0.4472 - val_loss: 1.5795\n",
            "Epoch 17/100\n",
            "\u001b[1m313/313\u001b[0m \u001b[32m━━━━━━━━━━━━━━━━━━━━\u001b[0m\u001b[37m\u001b[0m \u001b[1m6s\u001b[0m 18ms/step - accuracy: 0.4501 - loss: 1.5611 - val_accuracy: 0.4476 - val_loss: 1.5714\n",
            "Epoch 18/100\n",
            "\u001b[1m313/313\u001b[0m \u001b[32m━━━━━━━━━━━━━━━━━━━━\u001b[0m\u001b[37m\u001b[0m \u001b[1m9s\u001b[0m 15ms/step - accuracy: 0.4572 - loss: 1.5460 - val_accuracy: 0.4502 - val_loss: 1.5775\n",
            "Epoch 19/100\n",
            "\u001b[1m313/313\u001b[0m \u001b[32m━━━━━━━━━━━━━━━━━━━━\u001b[0m\u001b[37m\u001b[0m \u001b[1m6s\u001b[0m 18ms/step - accuracy: 0.4568 - loss: 1.5489 - val_accuracy: 0.4449 - val_loss: 1.5742\n",
            "Epoch 20/100\n",
            "\u001b[1m313/313\u001b[0m \u001b[32m━━━━━━━━━━━━━━━━━━━━\u001b[0m\u001b[37m\u001b[0m \u001b[1m10s\u001b[0m 17ms/step - accuracy: 0.4518 - loss: 1.5406 - val_accuracy: 0.4441 - val_loss: 1.5662\n",
            "Epoch 21/100\n",
            "\u001b[1m313/313\u001b[0m \u001b[32m━━━━━━━━━━━━━━━━━━━━\u001b[0m\u001b[37m\u001b[0m \u001b[1m9s\u001b[0m 15ms/step - accuracy: 0.4590 - loss: 1.5307 - val_accuracy: 0.4516 - val_loss: 1.5592\n",
            "Epoch 22/100\n",
            "\u001b[1m313/313\u001b[0m \u001b[32m━━━━━━━━━━━━━━━━━━━━\u001b[0m\u001b[37m\u001b[0m \u001b[1m6s\u001b[0m 19ms/step - accuracy: 0.4682 - loss: 1.5082 - val_accuracy: 0.4580 - val_loss: 1.5501\n",
            "Epoch 23/100\n",
            "\u001b[1m313/313\u001b[0m \u001b[32m━━━━━━━━━━━━━━━━━━━━\u001b[0m\u001b[37m\u001b[0m \u001b[1m10s\u001b[0m 18ms/step - accuracy: 0.4671 - loss: 1.5075 - val_accuracy: 0.4561 - val_loss: 1.5422\n",
            "Epoch 24/100\n",
            "\u001b[1m313/313\u001b[0m \u001b[32m━━━━━━━━━━━━━━━━━━━━\u001b[0m\u001b[37m\u001b[0m \u001b[1m5s\u001b[0m 14ms/step - accuracy: 0.4696 - loss: 1.5023 - val_accuracy: 0.4569 - val_loss: 1.5452\n",
            "Epoch 25/100\n",
            "\u001b[1m313/313\u001b[0m \u001b[32m━━━━━━━━━━━━━━━━━━━━\u001b[0m\u001b[37m\u001b[0m \u001b[1m5s\u001b[0m 15ms/step - accuracy: 0.4745 - loss: 1.4960 - val_accuracy: 0.4590 - val_loss: 1.5308\n",
            "Epoch 26/100\n",
            "\u001b[1m313/313\u001b[0m \u001b[32m━━━━━━━━━━━━━━━━━━━━\u001b[0m\u001b[37m\u001b[0m \u001b[1m6s\u001b[0m 18ms/step - accuracy: 0.4742 - loss: 1.4842 - val_accuracy: 0.4588 - val_loss: 1.5254\n",
            "Epoch 27/100\n",
            "\u001b[1m313/313\u001b[0m \u001b[32m━━━━━━━━━━━━━━━━━━━━\u001b[0m\u001b[37m\u001b[0m \u001b[1m11s\u001b[0m 19ms/step - accuracy: 0.4804 - loss: 1.4862 - val_accuracy: 0.4654 - val_loss: 1.5279\n",
            "Epoch 28/100\n",
            "\u001b[1m313/313\u001b[0m \u001b[32m━━━━━━━━━━━━━━━━━━━━\u001b[0m\u001b[37m\u001b[0m \u001b[1m9s\u001b[0m 14ms/step - accuracy: 0.4770 - loss: 1.4808 - val_accuracy: 0.4653 - val_loss: 1.5282\n",
            "Epoch 29/100\n",
            "\u001b[1m313/313\u001b[0m \u001b[32m━━━━━━━━━━━━━━━━━━━━\u001b[0m\u001b[37m\u001b[0m \u001b[1m6s\u001b[0m 18ms/step - accuracy: 0.4788 - loss: 1.4812 - val_accuracy: 0.4668 - val_loss: 1.5224\n",
            "Epoch 30/100\n",
            "\u001b[1m313/313\u001b[0m \u001b[32m━━━━━━━━━━━━━━━━━━━━\u001b[0m\u001b[37m\u001b[0m \u001b[1m10s\u001b[0m 17ms/step - accuracy: 0.4776 - loss: 1.4740 - val_accuracy: 0.4630 - val_loss: 1.5224\n",
            "Epoch 31/100\n",
            "\u001b[1m313/313\u001b[0m \u001b[32m━━━━━━━━━━━━━━━━━━━━\u001b[0m\u001b[37m\u001b[0m \u001b[1m5s\u001b[0m 16ms/step - accuracy: 0.4809 - loss: 1.4666 - val_accuracy: 0.4632 - val_loss: 1.5130\n",
            "Epoch 32/100\n",
            "\u001b[1m313/313\u001b[0m \u001b[32m━━━━━━━━━━━━━━━━━━━━\u001b[0m\u001b[37m\u001b[0m \u001b[1m5s\u001b[0m 15ms/step - accuracy: 0.4830 - loss: 1.4695 - val_accuracy: 0.4688 - val_loss: 1.5112\n",
            "Epoch 33/100\n",
            "\u001b[1m313/313\u001b[0m \u001b[32m━━━━━━━━━━━━━━━━━━━━\u001b[0m\u001b[37m\u001b[0m \u001b[1m6s\u001b[0m 18ms/step - accuracy: 0.4806 - loss: 1.4610 - val_accuracy: 0.4693 - val_loss: 1.5073\n",
            "Epoch 34/100\n",
            "\u001b[1m313/313\u001b[0m \u001b[32m━━━━━━━━━━━━━━━━━━━━\u001b[0m\u001b[37m\u001b[0m \u001b[1m5s\u001b[0m 15ms/step - accuracy: 0.4879 - loss: 1.4476 - val_accuracy: 0.4728 - val_loss: 1.4989\n",
            "Epoch 35/100\n",
            "\u001b[1m313/313\u001b[0m \u001b[32m━━━━━━━━━━━━━━━━━━━━\u001b[0m\u001b[37m\u001b[0m \u001b[1m5s\u001b[0m 17ms/step - accuracy: 0.4809 - loss: 1.4546 - val_accuracy: 0.4720 - val_loss: 1.4948\n",
            "Epoch 36/100\n",
            "\u001b[1m313/313\u001b[0m \u001b[32m━━━━━━━━━━━━━━━━━━━━\u001b[0m\u001b[37m\u001b[0m \u001b[1m9s\u001b[0m 14ms/step - accuracy: 0.4894 - loss: 1.4443 - val_accuracy: 0.4731 - val_loss: 1.4989\n",
            "Epoch 37/100\n",
            "\u001b[1m313/313\u001b[0m \u001b[32m━━━━━━━━━━━━━━━━━━━━\u001b[0m\u001b[37m\u001b[0m \u001b[1m6s\u001b[0m 19ms/step - accuracy: 0.4903 - loss: 1.4417 - val_accuracy: 0.4720 - val_loss: 1.4960\n",
            "Epoch 38/100\n",
            "\u001b[1m313/313\u001b[0m \u001b[32m━━━━━━━━━━━━━━━━━━━━\u001b[0m\u001b[37m\u001b[0m \u001b[1m10s\u001b[0m 18ms/step - accuracy: 0.4877 - loss: 1.4463 - val_accuracy: 0.4753 - val_loss: 1.4878\n",
            "Epoch 39/100\n",
            "\u001b[1m313/313\u001b[0m \u001b[32m━━━━━━━━━━━━━━━━━━━━\u001b[0m\u001b[37m\u001b[0m \u001b[1m5s\u001b[0m 14ms/step - accuracy: 0.4890 - loss: 1.4395 - val_accuracy: 0.4702 - val_loss: 1.4989\n",
            "Epoch 40/100\n",
            "\u001b[1m313/313\u001b[0m \u001b[32m━━━━━━━━━━━━━━━━━━━━\u001b[0m\u001b[37m\u001b[0m \u001b[1m4s\u001b[0m 14ms/step - accuracy: 0.4928 - loss: 1.4360 - val_accuracy: 0.4741 - val_loss: 1.4942\n",
            "Epoch 41/100\n",
            "\u001b[1m313/313\u001b[0m \u001b[32m━━━━━━━━━━━━━━━━━━━━\u001b[0m\u001b[37m\u001b[0m \u001b[1m6s\u001b[0m 18ms/step - accuracy: 0.4980 - loss: 1.4234 - val_accuracy: 0.4731 - val_loss: 1.4946\n",
            "Epoch 42/100\n",
            "\u001b[1m313/313\u001b[0m \u001b[32m━━━━━━━━━━━━━━━━━━━━\u001b[0m\u001b[37m\u001b[0m \u001b[1m10s\u001b[0m 18ms/step - accuracy: 0.4973 - loss: 1.4176 - val_accuracy: 0.4698 - val_loss: 1.4954\n",
            "Epoch 43/100\n",
            "\u001b[1m313/313\u001b[0m \u001b[32m━━━━━━━━━━━━━━━━━━━━\u001b[0m\u001b[37m\u001b[0m \u001b[1m9s\u001b[0m 15ms/step - accuracy: 0.4959 - loss: 1.4185 - val_accuracy: 0.4788 - val_loss: 1.4933\n",
            "Epoch 44/100\n",
            "\u001b[1m313/313\u001b[0m \u001b[32m━━━━━━━━━━━━━━━━━━━━\u001b[0m\u001b[37m\u001b[0m \u001b[1m6s\u001b[0m 18ms/step - accuracy: 0.4972 - loss: 1.4218 - val_accuracy: 0.4728 - val_loss: 1.4972\n",
            "Epoch 45/100\n",
            "\u001b[1m313/313\u001b[0m \u001b[32m━━━━━━━━━━━━━━━━━━━━\u001b[0m\u001b[37m\u001b[0m \u001b[1m10s\u001b[0m 17ms/step - accuracy: 0.4999 - loss: 1.4184 - val_accuracy: 0.4733 - val_loss: 1.4921\n",
            "Epoch 46/100\n",
            "\u001b[1m313/313\u001b[0m \u001b[32m━━━━━━━━━━━━━━━━━━━━\u001b[0m\u001b[37m\u001b[0m \u001b[1m5s\u001b[0m 15ms/step - accuracy: 0.4976 - loss: 1.4269 - val_accuracy: 0.4766 - val_loss: 1.4869\n",
            "Epoch 47/100\n",
            "\u001b[1m313/313\u001b[0m \u001b[32m━━━━━━━━━━━━━━━━━━━━\u001b[0m\u001b[37m\u001b[0m \u001b[1m5s\u001b[0m 15ms/step - accuracy: 0.4997 - loss: 1.4088 - val_accuracy: 0.4746 - val_loss: 1.4874\n",
            "Epoch 48/100\n",
            "\u001b[1m313/313\u001b[0m \u001b[32m━━━━━━━━━━━━━━━━━━━━\u001b[0m\u001b[37m\u001b[0m \u001b[1m5s\u001b[0m 17ms/step - accuracy: 0.5036 - loss: 1.4109 - val_accuracy: 0.4787 - val_loss: 1.4946\n"
          ]
        }
      ]
    },
    {
      "cell_type": "markdown",
      "source": [
        "## 2.2 Exercise\n",
        "Change the [activation function of the dense layers (except the last one)](https://www.tensorflow.org/api_docs/python/tf/keras/layers/Dense) to rectified linear unit (ReLU) and the [weight initialization](https://www.tensorflow.org/api_docs/python/tf/keras/initializers) to the theoretically best one. Use the original model's code.\n",
        "\n",
        "Compile and train the model. Inspect the effects of the modifications."
      ],
      "metadata": {
        "id": "zQCDM1o1BBtF"
      }
    },
    {
      "cell_type": "code",
      "source": [
        "# model definition with relu\n",
        "model = Sequential()\n",
        "model.add(Dense(128, activation='relu', kernel_initializer='he_normal', input_shape=(flattened_dim,)))\n",
        "model.add(Dense(128, activation='relu', kernel_initializer='he_normal'))\n",
        "model.add(Dense(nb_classes, activation='softmax'))\n",
        "\n",
        "# loss function and optimizer\n",
        "model.compile(loss='categorical_crossentropy', optimizer='adam', metrics=['accuracy'])"
      ],
      "metadata": {
        "id": "YjHAAh-wGu9O"
      },
      "execution_count": 98,
      "outputs": []
    },
    {
      "cell_type": "code",
      "source": [
        "# training\n",
        "network_history = model.fit(X_train, Y_train,\n",
        "                            validation_data=(X_valid,Y_valid),\n",
        "                            batch_size=128,\n",
        "                            epochs=40,\n",
        "                            verbose=1)"
      ],
      "metadata": {
        "id": "rarwKM1wGxMz",
        "colab": {
          "base_uri": "https://localhost:8080/"
        },
        "outputId": "6717dc18-b716-436e-faa4-11ff61cd9376"
      },
      "execution_count": null,
      "outputs": [
        {
          "output_type": "stream",
          "name": "stdout",
          "text": [
            "Epoch 1/40\n",
            "\u001b[1m313/313\u001b[0m \u001b[32m━━━━━━━━━━━━━━━━━━━━\u001b[0m\u001b[37m\u001b[0m \u001b[1m7s\u001b[0m 15ms/step - accuracy: 0.3313 - loss: 2.0608 - val_accuracy: 0.4135 - val_loss: 1.7342\n",
            "Epoch 2/40\n",
            "\u001b[1m313/313\u001b[0m \u001b[32m━━━━━━━━━━━━━━━━━━━━\u001b[0m\u001b[37m\u001b[0m \u001b[1m4s\u001b[0m 13ms/step - accuracy: 0.4637 - loss: 1.5438 - val_accuracy: 0.4522 - val_loss: 1.5909\n",
            "Epoch 3/40\n",
            "\u001b[1m313/313\u001b[0m \u001b[32m━━━━━━━━━━━━━━━━━━━━\u001b[0m\u001b[37m\u001b[0m \u001b[1m6s\u001b[0m 17ms/step - accuracy: 0.5051 - loss: 1.4133 - val_accuracy: 0.4626 - val_loss: 1.5695\n",
            "Epoch 4/40\n",
            "\u001b[1m313/313\u001b[0m \u001b[32m━━━━━━━━━━━━━━━━━━━━\u001b[0m\u001b[37m\u001b[0m \u001b[1m4s\u001b[0m 14ms/step - accuracy: 0.5394 - loss: 1.3169 - val_accuracy: 0.4784 - val_loss: 1.5277\n",
            "Epoch 5/40\n",
            "\u001b[1m313/313\u001b[0m \u001b[32m━━━━━━━━━━━━━━━━━━━━\u001b[0m\u001b[37m\u001b[0m \u001b[1m6s\u001b[0m 18ms/step - accuracy: 0.5634 - loss: 1.2533 - val_accuracy: 0.4828 - val_loss: 1.5161\n",
            "Epoch 6/40\n",
            "\u001b[1m313/313\u001b[0m \u001b[32m━━━━━━━━━━━━━━━━━━━━\u001b[0m\u001b[37m\u001b[0m \u001b[1m9s\u001b[0m 14ms/step - accuracy: 0.5815 - loss: 1.1881 - val_accuracy: 0.4892 - val_loss: 1.5126\n",
            "Epoch 7/40\n",
            "\u001b[1m313/313\u001b[0m \u001b[32m━━━━━━━━━━━━━━━━━━━━\u001b[0m\u001b[37m\u001b[0m \u001b[1m5s\u001b[0m 17ms/step - accuracy: 0.6062 - loss: 1.1256 - val_accuracy: 0.4926 - val_loss: 1.5241\n",
            "Epoch 8/40\n",
            "\u001b[1m313/313\u001b[0m \u001b[32m━━━━━━━━━━━━━━━━━━━━\u001b[0m\u001b[37m\u001b[0m \u001b[1m11s\u001b[0m 19ms/step - accuracy: 0.6250 - loss: 1.0722 - val_accuracy: 0.4936 - val_loss: 1.5475\n",
            "Epoch 9/40\n",
            "\u001b[1m313/313\u001b[0m \u001b[32m━━━━━━━━━━━━━━━━━━━━\u001b[0m\u001b[37m\u001b[0m \u001b[1m4s\u001b[0m 14ms/step - accuracy: 0.6362 - loss: 1.0310 - val_accuracy: 0.4930 - val_loss: 1.5574\n",
            "Epoch 10/40\n",
            "\u001b[1m158/313\u001b[0m \u001b[32m━━━━━━━━━━\u001b[0m\u001b[37m━━━━━━━━━━\u001b[0m \u001b[1m1s\u001b[0m 11ms/step - accuracy: 0.6563 - loss: 0.9812"
          ]
        }
      ]
    },
    {
      "cell_type": "markdown",
      "source": [
        "# 2.3. Exercise\n",
        "Based on the modifications above, and by any further modifications (e.g. more layers, less layers, more neurons/layer, etc.) to the model design, find a combination that is able to achieve **validation accuracy, that is higher than 53%**.\n"
      ],
      "metadata": {
        "id": "j1tGVPdD-pp3"
      }
    },
    {
      "cell_type": "code",
      "source": [
        "es = EarlyStopping(\n",
        "    monitor='val_accuracy',\n",
        "    patience=5,\n",
        "    restore_best_weights=True\n",
        ")"
      ],
      "metadata": {
        "id": "5dBQxJHIHrbd"
      },
      "execution_count": null,
      "outputs": []
    },
    {
      "cell_type": "code",
      "source": [
        "# model definition\n",
        "model = Sequential()\n",
        "model = Sequential()\n",
        "model.add(Dense(512, activation='relu', input_shape=(flattened_dim,), kernel_initializer=HeNormal()))\n",
        "model.add(Dropout(0.4))\n",
        "model.add(Dense(256, activation='relu', kernel_initializer=HeNormal()))\n",
        "model.add(Dropout(0.4))\n",
        "model.add(Dense(128, activation='relu', kernel_initializer=HeNormal()))\n",
        "model.add(Dropout(0.4))\n",
        "model.add(Dense(nb_classes, activation='softmax'))\n",
        "\n",
        "# loss function and optimizer\n",
        "model.compile(loss='categorical_crossentropy', optimizer='adam', metrics=['accuracy'])"
      ],
      "metadata": {
        "id": "PuxHOqLt-3Nd",
        "colab": {
          "base_uri": "https://localhost:8080/"
        },
        "outputId": "32dd518c-4037-4a79-e21b-1063d1044775"
      },
      "execution_count": null,
      "outputs": [
        {
          "output_type": "stream",
          "name": "stderr",
          "text": [
            "/usr/local/lib/python3.11/dist-packages/keras/src/layers/core/dense.py:87: UserWarning: Do not pass an `input_shape`/`input_dim` argument to a layer. When using Sequential models, prefer using an `Input(shape)` object as the first layer in the model instead.\n",
            "  super().__init__(activity_regularizer=activity_regularizer, **kwargs)\n"
          ]
        }
      ]
    },
    {
      "cell_type": "code",
      "source": [
        "# training\n",
        "network_history = model.fit(X_train, Y_train,\n",
        "                            validation_data=(X_valid, Y_valid),\n",
        "                            batch_size=128,\n",
        "                            epochs=40,\n",
        "                            verbose=1,\n",
        "                            callbacks=[es])"
      ],
      "metadata": {
        "id": "u8tFNCNVHyt9",
        "colab": {
          "base_uri": "https://localhost:8080/"
        },
        "outputId": "88d0fa33-c2af-41cc-a604-8b7d4bf02be5"
      },
      "execution_count": null,
      "outputs": [
        {
          "output_type": "stream",
          "name": "stdout",
          "text": [
            "Epoch 1/40\n",
            "\u001b[1m313/313\u001b[0m \u001b[32m━━━━━━━━━━━━━━━━━━━━\u001b[0m\u001b[37m\u001b[0m \u001b[1m15s\u001b[0m 46ms/step - accuracy: 0.6091 - loss: 1.1110 - val_accuracy: 0.5337 - val_loss: 1.3604\n",
            "Epoch 2/40\n",
            "\u001b[1m313/313\u001b[0m \u001b[32m━━━━━━━━━━━━━━━━━━━━\u001b[0m\u001b[37m\u001b[0m \u001b[1m20s\u001b[0m 45ms/step - accuracy: 0.6086 - loss: 1.0928 - val_accuracy: 0.5349 - val_loss: 1.3586\n",
            "Epoch 3/40\n",
            "\u001b[1m313/313\u001b[0m \u001b[32m━━━━━━━━━━━━━━━━━━━━\u001b[0m\u001b[37m\u001b[0m \u001b[1m15s\u001b[0m 47ms/step - accuracy: 0.6184 - loss: 1.0843 - val_accuracy: 0.5397 - val_loss: 1.3446\n",
            "Epoch 4/40\n",
            "\u001b[1m313/313\u001b[0m \u001b[32m━━━━━━━━━━━━━━━━━━━━\u001b[0m\u001b[37m\u001b[0m \u001b[1m14s\u001b[0m 45ms/step - accuracy: 0.6190 - loss: 1.0762 - val_accuracy: 0.5375 - val_loss: 1.3569\n",
            "Epoch 5/40\n",
            "\u001b[1m313/313\u001b[0m \u001b[32m━━━━━━━━━━━━━━━━━━━━\u001b[0m\u001b[37m\u001b[0m \u001b[1m20s\u001b[0m 45ms/step - accuracy: 0.6202 - loss: 1.0583 - val_accuracy: 0.5451 - val_loss: 1.3317\n",
            "Epoch 6/40\n",
            "\u001b[1m313/313\u001b[0m \u001b[32m━━━━━━━━━━━━━━━━━━━━\u001b[0m\u001b[37m\u001b[0m \u001b[1m20s\u001b[0m 44ms/step - accuracy: 0.6241 - loss: 1.0648 - val_accuracy: 0.5378 - val_loss: 1.3616\n",
            "Epoch 7/40\n",
            "\u001b[1m313/313\u001b[0m \u001b[32m━━━━━━━━━━━━━━━━━━━━\u001b[0m\u001b[37m\u001b[0m \u001b[1m21s\u001b[0m 44ms/step - accuracy: 0.6232 - loss: 1.0625 - val_accuracy: 0.5381 - val_loss: 1.3478\n",
            "Epoch 8/40\n",
            "\u001b[1m313/313\u001b[0m \u001b[32m━━━━━━━━━━━━━━━━━━━━\u001b[0m\u001b[37m\u001b[0m \u001b[1m14s\u001b[0m 45ms/step - accuracy: 0.6231 - loss: 1.0634 - val_accuracy: 0.5438 - val_loss: 1.3408\n",
            "Epoch 9/40\n",
            "\u001b[1m313/313\u001b[0m \u001b[32m━━━━━━━━━━━━━━━━━━━━\u001b[0m\u001b[37m\u001b[0m \u001b[1m20s\u001b[0m 44ms/step - accuracy: 0.6274 - loss: 1.0535 - val_accuracy: 0.5473 - val_loss: 1.3349\n",
            "Epoch 10/40\n",
            "\u001b[1m313/313\u001b[0m \u001b[32m━━━━━━━━━━━━━━━━━━━━\u001b[0m\u001b[37m\u001b[0m \u001b[1m21s\u001b[0m 46ms/step - accuracy: 0.6331 - loss: 1.0499 - val_accuracy: 0.5467 - val_loss: 1.3524\n",
            "Epoch 11/40\n",
            "\u001b[1m313/313\u001b[0m \u001b[32m━━━━━━━━━━━━━━━━━━━━\u001b[0m\u001b[37m\u001b[0m \u001b[1m21s\u001b[0m 46ms/step - accuracy: 0.6339 - loss: 1.0318 - val_accuracy: 0.5474 - val_loss: 1.3496\n",
            "Epoch 12/40\n",
            "\u001b[1m313/313\u001b[0m \u001b[32m━━━━━━━━━━━━━━━━━━━━\u001b[0m\u001b[37m\u001b[0m \u001b[1m14s\u001b[0m 45ms/step - accuracy: 0.6339 - loss: 1.0258 - val_accuracy: 0.5454 - val_loss: 1.3407\n",
            "Epoch 13/40\n",
            "\u001b[1m313/313\u001b[0m \u001b[32m━━━━━━━━━━━━━━━━━━━━\u001b[0m\u001b[37m\u001b[0m \u001b[1m14s\u001b[0m 44ms/step - accuracy: 0.6409 - loss: 1.0179 - val_accuracy: 0.5523 - val_loss: 1.3339\n",
            "Epoch 14/40\n",
            "\u001b[1m313/313\u001b[0m \u001b[32m━━━━━━━━━━━━━━━━━━━━\u001b[0m\u001b[37m\u001b[0m \u001b[1m21s\u001b[0m 45ms/step - accuracy: 0.6486 - loss: 0.9940 - val_accuracy: 0.5444 - val_loss: 1.3593\n",
            "Epoch 15/40\n",
            "\u001b[1m313/313\u001b[0m \u001b[32m━━━━━━━━━━━━━━━━━━━━\u001b[0m\u001b[37m\u001b[0m \u001b[1m14s\u001b[0m 45ms/step - accuracy: 0.6435 - loss: 1.0172 - val_accuracy: 0.5428 - val_loss: 1.3435\n",
            "Epoch 16/40\n",
            "\u001b[1m313/313\u001b[0m \u001b[32m━━━━━━━━━━━━━━━━━━━━\u001b[0m\u001b[37m\u001b[0m \u001b[1m14s\u001b[0m 44ms/step - accuracy: 0.6468 - loss: 1.0029 - val_accuracy: 0.5436 - val_loss: 1.3598\n",
            "Epoch 17/40\n",
            "\u001b[1m313/313\u001b[0m \u001b[32m━━━━━━━━━━━━━━━━━━━━\u001b[0m\u001b[37m\u001b[0m \u001b[1m14s\u001b[0m 45ms/step - accuracy: 0.6509 - loss: 0.9933 - val_accuracy: 0.5482 - val_loss: 1.3562\n",
            "Epoch 18/40\n",
            "\u001b[1m313/313\u001b[0m \u001b[32m━━━━━━━━━━━━━━━━━━━━\u001b[0m\u001b[37m\u001b[0m \u001b[1m20s\u001b[0m 44ms/step - accuracy: 0.6496 - loss: 0.9964 - val_accuracy: 0.5427 - val_loss: 1.3786\n"
          ]
        }
      ]
    },
    {
      "cell_type": "markdown",
      "source": [
        "# 3. Evaluation on test data and inference\n",
        "At this point, we will perform a basic evaluation and inference. With the model.evaluate function, the same metrics are calculated, that were used during training:"
      ],
      "metadata": {
        "id": "2FtKp-a2-A9m"
      }
    },
    {
      "cell_type": "code",
      "source": [
        "print(model.evaluate(X_test, Y_test))"
      ],
      "metadata": {
        "id": "I3_9wgDREUna",
        "colab": {
          "base_uri": "https://localhost:8080/"
        },
        "outputId": "735da4df-7f0b-486b-bc29-35dd4261a1dd"
      },
      "execution_count": null,
      "outputs": [
        {
          "output_type": "stream",
          "name": "stdout",
          "text": [
            "\u001b[1m313/313\u001b[0m \u001b[32m━━━━━━━━━━━━━━━━━━━━\u001b[0m\u001b[37m\u001b[0m \u001b[1m2s\u001b[0m 6ms/step - accuracy: 0.5429 - loss: 1.3238\n",
            "[1.3341774940490723, 0.5418999791145325]\n"
          ]
        }
      ]
    },
    {
      "cell_type": "markdown",
      "source": [
        "we would like to see similar values, as in the validation set. If those are close to each other, then the generalization ability of the model is good (in case of an independent test-set)."
      ],
      "metadata": {
        "id": "ECHguBFtGL7f"
      }
    },
    {
      "cell_type": "markdown",
      "source": [
        "## 3.1. Exercise\n",
        "Predict the class of the first 10 elements in the test set, and compare the predicted values with the actual, target values in the test set. Hints:\n",
        "* you can use [model.predict](https://www.activestate.com/resources/quick-reads/how-to-use-a-model-to-do-predictions-with-keras/) for prediction\n",
        "* from the output you can select the largest value with the [argmax() function of Numpy](https://stackoverflow.com/questions/62358642/convert-one-hot-encoding-back-to-number-label). As there are multiple values, you have to call it with axis=1 parameter.\n",
        "* it is enought to compare the predictions and the targets by printing the values out and inspecting them."
      ],
      "metadata": {
        "id": "0Io4zYJeHjz6"
      }
    },
    {
      "cell_type": "code",
      "source": [
        "preds = model.predict(X_test[:10])\n",
        "preds_dense = np.argmax(preds, axis=1)"
      ],
      "metadata": {
        "id": "XEEyU7exILqF",
        "colab": {
          "base_uri": "https://localhost:8080/"
        },
        "outputId": "aecc0120-ea31-4cc3-f9a7-a7c33bb09274"
      },
      "execution_count": null,
      "outputs": [
        {
          "output_type": "stream",
          "name": "stdout",
          "text": [
            "\u001b[1m1/1\u001b[0m \u001b[32m━━━━━━━━━━━━━━━━━━━━\u001b[0m\u001b[37m\u001b[0m \u001b[1m0s\u001b[0m 113ms/step\n"
          ]
        }
      ]
    },
    {
      "cell_type": "markdown",
      "source": [
        "Before comparision, you have to convert back the one-hot encoded target values the same way, as you converted the output of the neural network to class values with argmax() function."
      ],
      "metadata": {
        "id": "seZTEFI-I5cZ"
      }
    },
    {
      "cell_type": "code",
      "source": [
        "print(\"Target labels:\", np.argmax(Y_test[:10],axis=1))\n",
        "print(\"Predicted labels:\", preds_dense)"
      ],
      "metadata": {
        "id": "PHLvoMuIIkJ6",
        "colab": {
          "base_uri": "https://localhost:8080/"
        },
        "outputId": "ca4c37ca-dc86-4af2-9042-a0f8b1d70162"
      },
      "execution_count": null,
      "outputs": [
        {
          "output_type": "stream",
          "name": "stdout",
          "text": [
            "Target labels: [3 8 8 0 6 6 1 6 3 1]\n",
            "Predicted labels: [3 9 0 0 4 6 1 6 3 1]\n"
          ]
        }
      ]
    }
  ]
}
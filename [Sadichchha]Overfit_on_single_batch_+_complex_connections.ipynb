{
  "nbformat": 4,
  "nbformat_minor": 0,
  "metadata": {
    "colab": {
      "provenance": [],
      "authorship_tag": "ABX9TyMDLWuRC/0IXJmKf8c5RS60",
      "include_colab_link": true
    },
    "kernelspec": {
      "name": "python3",
      "display_name": "Python 3"
    },
    "language_info": {
      "name": "python"
    }
  },
  "cells": [
    {
      "cell_type": "markdown",
      "metadata": {
        "id": "view-in-github",
        "colab_type": "text"
      },
      "source": [
        "<a href=\"https://colab.research.google.com/github/sadi1485/DeepLearning/blob/main/%5BSadichchha%5DOverfit_on_single_batch_%2B_complex_connections.ipynb\" target=\"_parent\"><img src=\"https://colab.research.google.com/assets/colab-badge.svg\" alt=\"Open In Colab\"/></a>"
      ]
    },
    {
      "cell_type": "markdown",
      "source": [
        "# Assignment 4 - Overfit on single batch + complex connections\n",
        "\n",
        "---"
      ],
      "metadata": {
        "id": "qwL2g3KS1ZOp"
      }
    },
    {
      "cell_type": "markdown",
      "source": [
        "## Dataset & Preprocessing:\n",
        "\n",
        "- Use a large dataset such as the UCI Covertype Dataset, but you can use your own (e.g. from project work).\n",
        "- Preprocess the data by:\n",
        "    1. Handling missing values.\n",
        "    2. Normalizing numerical features.\n",
        "    3. Encoding categorical variables.\n",
        "- Split the dataset into training and validation sets."
      ],
      "metadata": {
        "id": "Wm8C96E3zsht"
      }
    },
    {
      "cell_type": "code",
      "execution_count": null,
      "metadata": {
        "id": "dT6M7tCSy2zK"
      },
      "outputs": [],
      "source": []
    },
    {
      "cell_type": "markdown",
      "source": [
        "## Model Architecture\n",
        "\n",
        "Keep the number of trainable parameters as low as possible. Define the following neural network:\n",
        "- Initial Layers: Build an MLP in Keras to process the input features.\n",
        "- Custom Residual Block:\n",
        "    - Using the Keras Functional API, create a block with at least two Dense layers with ReLU activations.\n",
        "    - Implement a residual connection by adding the block’s input to its output (apply a linear projection with an extra Dense layer if the dimensions differ).\n",
        "- Additional Skip Connection:\n",
        "    - Implement an extra skip connection that bypasses one or more intermediate layers outside the residual block.\n",
        "- Final Layers:\n",
        "    - Add further Dense layers.\n",
        "    - Include an output layer appropriate for the task (e.g., a single unit with sigmoid activation for binary classification)."
      ],
      "metadata": {
        "id": "Gmo4yecr0F2A"
      }
    },
    {
      "cell_type": "code",
      "source": [],
      "metadata": {
        "id": "FcW5Cl1d0wgv"
      },
      "execution_count": null,
      "outputs": []
    },
    {
      "cell_type": "markdown",
      "source": [
        "## Visualization:\n",
        "\n",
        "- Save your complete model (e.g., as a .h5 file or in JSON format).\n",
        "- Open the saved model in the Netron app (https://netron.app/) and export the network diagram as an image.\n",
        "- Ensure that the exported image clearly shows all parts of your architecture, including both residual and skip connections."
      ],
      "metadata": {
        "id": "tZaY1K180w-X"
      }
    },
    {
      "cell_type": "code",
      "source": [],
      "metadata": {
        "id": "019yTHU803rv"
      },
      "execution_count": null,
      "outputs": []
    },
    {
      "cell_type": "markdown",
      "source": [
        "## Training & Evaluation:\n",
        "\n",
        "- Overfitting Experiment:\n",
        "  - Select a single batch of 128 samples from the training set.\n",
        "  - Train your model exclusively on this batch until you approach 0 loss.\n",
        "- Validation Check:\n",
        "  - Evaluate the overfitted model on the validation set to confirm that it performs poorly, demonstrating a lack of generalization.\n",
        "- Conclusions:\n",
        "  - At the end of your code, print the following information:\n",
        "    - Number of parameters:\n",
        "    - Final training loss:\n",
        "    - Final validation loss:"
      ],
      "metadata": {
        "id": "l2ec5r-T04Ks"
      }
    }
  ]
}